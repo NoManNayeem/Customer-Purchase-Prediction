{
 "cells": [
  {
   "cell_type": "markdown",
   "id": "4dd92385-4642-46bf-9439-a75c1fe528a3",
   "metadata": {},
   "source": [
    "# Install Required Packages"
   ]
  },
  {
   "cell_type": "code",
   "execution_count": null,
   "id": "4e870b5c-3611-497b-a8ee-3d061434c2b2",
   "metadata": {},
   "outputs": [
    {
     "name": "stdout",
     "output_type": "stream",
     "text": [
      "Defaulting to user installation because normal site-packages is not writeable\n",
      "Requirement already satisfied: requests in c:\\users\\lenovo\\appdata\\roaming\\python\\python312\\site-packages (2.32.3)\n",
      "Requirement already satisfied: charset-normalizer<4,>=2 in c:\\users\\lenovo\\appdata\\roaming\\python\\python312\\site-packages (from requests) (3.4.0)\n",
      "Requirement already satisfied: idna<4,>=2.5 in c:\\users\\lenovo\\appdata\\roaming\\python\\python312\\site-packages (from requests) (3.10)\n",
      "Requirement already satisfied: urllib3<3,>=1.21.1 in c:\\users\\lenovo\\appdata\\roaming\\python\\python312\\site-packages (from requests) (2.2.3)\n",
      "Requirement already satisfied: certifi>=2017.4.17 in c:\\users\\lenovo\\appdata\\roaming\\python\\python312\\site-packages (from requests) (2024.8.30)\n"
     ]
    }
   ],
   "source": [
    "# ! pip install requests\n",
    "# ! pip install paypalcheckoutsdk\n",
    "# ! pip install payouts-python-sdk\n",
    "# ! pip install python-dotenv"
   ]
  },
  {
   "cell_type": "markdown",
   "id": "7924dfc2-19d5-4c20-b768-27ef426d2f50",
   "metadata": {},
   "source": [
    "# Basic Configuration"
   ]
  },
  {
   "cell_type": "code",
   "execution_count": 9,
   "id": "f2c38422-8dfa-4ce2-9fbb-9df93267df18",
   "metadata": {},
   "outputs": [],
   "source": [
    "import os\n",
    "import requests\n",
    "import json\n",
    "import time\n",
    "from dotenv import load_dotenv\n",
    "load_dotenv() \n",
    "\n",
    "# PayPal API Configuration\n",
    "CLIENT_ID = os.getenv('CLIENT_ID')\n",
    "CLIENT_SECRET = os.getenv('CLIENT_SECRET') \n",
    "# Use sandbox for testing, change to 'api-m.paypal.com' for production\n",
    "BASE_URL = 'https://api-m.sandbox.paypal.com'"
   ]
  },
  {
   "cell_type": "markdown",
   "id": "a90b8d78-84c0-403c-bb8c-159ace2c9e2d",
   "metadata": {},
   "source": [
    "# Authentication"
   ]
  },
  {
   "cell_type": "code",
   "execution_count": 12,
   "id": "16443102",
   "metadata": {},
   "outputs": [
    {
     "name": "stdout",
     "output_type": "stream",
     "text": [
      "Error getting access token: {\"error\":\"invalid_client\",\"error_description\":\"Client Authentication failed\"}\n",
      "Failed to get token\n"
     ]
    }
   ],
   "source": [
    "def get_access_token():\n",
    "    \"\"\"Get OAuth 2.0 access token from PayPal\"\"\"\n",
    "    url = f\"{BASE_URL}/v1/oauth2/token\"\n",
    "    headers = {\n",
    "        \"Accept\": \"application/json\",\n",
    "        \"Accept-Language\": \"en_US\"\n",
    "    }\n",
    "    data = {\n",
    "        \"grant_type\": \"client_credentials\"\n",
    "    }\n",
    "    \n",
    "    response = requests.post(\n",
    "        url, \n",
    "        auth=(CLIENT_ID, CLIENT_SECRET), \n",
    "        headers=headers,\n",
    "        data=data\n",
    "    )\n",
    "    \n",
    "    if response.status_code == 200:\n",
    "        result = response.json()\n",
    "        # Token typically expires in hours, but good to save expiration time\n",
    "        print(f\"Access token obtained successfully. Expires in {result['expires_in']} seconds\")\n",
    "        return result['access_token']\n",
    "    else:\n",
    "        print(f\"Error getting access token: {response.text}\")\n",
    "        return None\n",
    "\n",
    "\n",
    "\n",
    "# Test the function\n",
    "token = get_access_token()\n",
    "print(f\"Token: {token[:10]}...\") if token else print(\"Failed to get token\")"
   ]
  },
  {
   "cell_type": "code",
   "execution_count": null,
   "id": "c58fda0a-d472-45f4-acc9-5ef641d4731d",
   "metadata": {},
   "outputs": [],
   "source": []
  }
 ],
 "metadata": {
  "kernelspec": {
   "display_name": "Python 3 (ipykernel)",
   "language": "python",
   "name": "python3"
  },
  "language_info": {
   "codemirror_mode": {
    "name": "ipython",
    "version": 3
   },
   "file_extension": ".py",
   "mimetype": "text/x-python",
   "name": "python",
   "nbconvert_exporter": "python",
   "pygments_lexer": "ipython3",
   "version": "3.12.7"
  }
 },
 "nbformat": 4,
 "nbformat_minor": 5
}
